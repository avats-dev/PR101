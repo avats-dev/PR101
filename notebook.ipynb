{
 "cells": [
  {
   "cell_type": "markdown",
   "metadata": {},
   "source": [
    "# RPi Weather Station \n",
    "For PR101 project @IIITDMJ"
   ]
  },
  {
   "cell_type": "markdown",
   "metadata": {},
   "source": [
    "### List of Material "
   ]
  },
  {
   "cell_type": "markdown",
   "metadata": {},
   "source": [
    "<ol>\n",
    "<li><a href=\"http://a.co/cSjzJhj\"> Raspberry Pi V3</a> </li><li><a href=\"https://www.adafruit.com/product/385\"> DHT22 Temperature and Relative Humidity Sensor</a></li><li>Resistor 4K7 ohm</li><li><a href=\"http://a.co/8NPkPQM\"> DS18B20 Waterproof Temperature Sensor</a></li><li>Resistor 4K7 ohm</li><li><a href=\"http://a.co/3bhais0\"> BMP180 Barometric Pressure, Temperature and Altitude Sensor </a></li><li><a href=\"https://es.aliexpress.com/item/UV-Detection-Sensor-Module-Ultraviolet-Ray-Module/32252554436.html?spm=a2g0s.9042311.0.0.jbbTqb\" target=\"_blank\">UV Sensor</a></li><li><a href=\"https://www.amazon.com/Adafruit-MCP3008-8-Channel-Interface-Raspberry/dp/B00NAY3RB2\" target=\"_blank\">Adafruit MCP3008 8-Channel 10-Bit ADC With SPI Interface</a></li></ol>"
   ]
  },
  {
   "cell_type": "markdown",
   "metadata": {},
   "source": [
    "## DHT22 - Temperature & Humidity Sensor"
   ]
  },
  {
   "cell_type": "code",
   "execution_count": null,
   "metadata": {},
   "outputs": [],
   "source": [
    "pip install Adafruit_DHT"
   ]
  },
  {
   "cell_type": "code",
   "execution_count": null,
   "metadata": {},
   "outputs": [],
   "source": [
    "# Adafruit DHT library (Temperature/Humidity)\n",
    "import Adafruit_DHT"
   ]
  },
  {
   "cell_type": "code",
   "execution_count": null,
   "metadata": {},
   "outputs": [],
   "source": [
    "DHT22Sensor = Adafruit_DHT.DHT22\n",
    "DHTpin = 16"
   ]
  },
  {
   "cell_type": "code",
   "execution_count": null,
   "metadata": {},
   "outputs": [],
   "source": [
    "humDHT, tempDHT = Adafruit_DHT.read_retry(DHT22Sensor, DHTpin)\n",
    "if (humDHT is not None) and (tempDHT is not None):\n",
    "    hum = round (humDHT,1)\n",
    "    temp = round (tempDHT, 1)"
   ]
  },
  {
   "cell_type": "code",
   "execution_count": null,
   "metadata": {},
   "outputs": [],
   "source": [
    "print('Temperature = {}*C  Humidity = {}%'.format(temp, hum))"
   ]
  },
  {
   "cell_type": "markdown",
   "metadata": {},
   "source": [
    "---"
   ]
  },
  {
   "cell_type": "markdown",
   "metadata": {},
   "source": [
    "## DS18B20 - Temperature Sensor"
   ]
  },
  {
   "cell_type": "code",
   "execution_count": null,
   "metadata": {},
   "outputs": [],
   "source": [
    "# DS18B20 1-Wire library (by default GPIO 4 is used with sensor (Temperature)\n",
    "from w1thermsensor import W1ThermSensor "
   ]
  },
  {
   "cell_type": "code",
   "execution_count": null,
   "metadata": {},
   "outputs": [],
   "source": [
    "ds18b20Sensor = W1ThermSensor() "
   ]
  },
  {
   "cell_type": "code",
   "execution_count": null,
   "metadata": {},
   "outputs": [],
   "source": [
    "tempExt = round(ds18b20Sensor.get_temperature(), 1)"
   ]
  },
  {
   "cell_type": "code",
   "execution_count": null,
   "metadata": {},
   "outputs": [],
   "source": [
    "print('External Temperature = {}*C'.format(tempExt))"
   ]
  },
  {
   "cell_type": "markdown",
   "metadata": {},
   "source": [
    "---"
   ]
  },
  {
   "cell_type": "markdown",
   "metadata": {},
   "source": [
    "## BMP180 - Temperature & Pressure Sensor"
   ]
  },
  {
   "cell_type": "code",
   "execution_count": null,
   "metadata": {},
   "outputs": [],
   "source": [
    "# BMP library (Pressure / Temperature)\n",
    "import Adafruit_BMP.BMP085 as BMP085 "
   ]
  },
  {
   "cell_type": "code",
   "execution_count": null,
   "metadata": {},
   "outputs": [],
   "source": [
    "bmp180Sensor = BMP085.BMP085()"
   ]
  },
  {
   "cell_type": "code",
   "execution_count": null,
   "metadata": {},
   "outputs": [],
   "source": [
    "tempBMP = round(bmp180Sensor.read_temperature(), 1)\n",
    "presBMP = round(bmp180Sensor.read_pressure()/100, 1) # absolute pressure in hPa\n",
    "altBMP =  round(bmp180Sensor.read_altitude(),1)"
   ]
  },
  {
   "cell_type": "code",
   "execution_count": null,
   "metadata": {},
   "outputs": [],
   "source": [
    "print ('Temperature = {} C '.format(tempBMP))\n",
    "print ('Pressure = {} hPa [or mbar]'.format(presBMP))\n",
    "print ('Altitud = {} m '.format(altBMP))"
   ]
  },
  {
   "cell_type": "markdown",
   "metadata": {},
   "source": [
    "### Defining a more complete function "
   ]
  },
  {
   "cell_type": "code",
   "execution_count": null,
   "metadata": {},
   "outputs": [],
   "source": [
    "# Read data from BMP180\n",
    "def bmp180GetData(altitude):\n",
    "\n",
    "    temp = bmp180Sensor.read_temperature()\n",
    "    pres = bmp180Sensor.read_pressure()\n",
    "    alt =  bmp180Sensor.read_altitude()\n",
    "    presSeaLevel = pres / pow(1.0 - altitude/44330.0, 5.255) \n",
    "\n",
    "    temp = round (temp, 1)\n",
    "    pres = round (pres/100, 2) # absolute pressure in hPa (or mbar)\n",
    "    alt = round (alt)\n",
    "    presSeaLevel = round (presSeaLevel/100, 2) # absolute pressure in hPa (or mbar)\n",
    "\n",
    "    return temp, pres, alt, presSeaLevel"
   ]
  },
  {
   "cell_type": "code",
   "execution_count": null,
   "metadata": {},
   "outputs": [],
   "source": [
    "altReal = 957 # station real altitud\n",
    "tempLab, presAbs, altLab, presSL = bmp180GetData(altReal) "
   ]
  },
  {
   "cell_type": "code",
   "execution_count": null,
   "metadata": {},
   "outputs": [],
   "source": [
    "print (\"Station Air Temperature:       \", tempLab, \"oC\")\n",
    "print (\"Sea Level Air Pressure:        \", presSL, \"mBar\")\n",
    "print (\"Absolute Station Air Pressure: \", presAbs, \"mBar\")\n",
    "print (\"Station Calculated Altitude:   \", altLab, \"m\")"
   ]
  },
  {
   "cell_type": "markdown",
   "metadata": {},
   "source": [
    "---"
   ]
  },
  {
   "cell_type": "markdown",
   "metadata": {},
   "source": [
    "## UV Sensor"
   ]
  },
  {
   "cell_type": "code",
   "execution_count": null,
   "metadata": {},
   "outputs": [],
   "source": [
    "import time\n",
    "import spidev"
   ]
  },
  {
   "cell_type": "code",
   "execution_count": null,
   "metadata": {},
   "outputs": [],
   "source": [
    "# Open SPI bus\n",
    "spi = spidev.SpiDev()\n",
    "spi.open(0,0)\n",
    "spi.max_speed_hz=1000000"
   ]
  },
  {
   "cell_type": "code",
   "execution_count": null,
   "metadata": {},
   "outputs": [],
   "source": [
    "# Function to read SPI data from MCP3008 chip\n",
    "# Channel must be an integer 0-7\n",
    "def ReadChannel(channel):\n",
    "  adc = spi.xfer2([1,(8+channel)<<4,0])\n",
    "  data = ((adc[1]&3) << 8) + adc[2]\n",
    "  return data"
   ]
  },
  {
   "cell_type": "code",
   "execution_count": null,
   "metadata": {},
   "outputs": [],
   "source": [
    "UV_raw = ReadChannel(0)"
   ]
  },
  {
   "cell_type": "code",
   "execution_count": null,
   "metadata": {},
   "outputs": [],
   "source": [
    "print(\"UV Raw Analog Data: \", UV_raw)"
   ]
  },
  {
   "cell_type": "markdown",
   "metadata": {},
   "source": [
    "### Calculating UV index"
   ]
  },
  {
   "cell_type": "code",
   "execution_count": null,
   "metadata": {},
   "outputs": [],
   "source": [
    "# Read UV sensor 3 times, take the average and converted it to mV\n",
    "def readSensorUV():                   \n",
    "    numOfReadings = 3\n",
    "    dataSensorUV = 0\n",
    "    for i in range(numOfReadings): \n",
    "        dataSensorUV += ReadChannel(0)\n",
    "        time.sleep(0.2)\n",
    "    dataSensorUV /= numOfReadings\n",
    "    dataSensorUV = (dataSensorUV * (3.3 / 1023.0))*1000;\n",
    "    return round(dataSensorUV)"
   ]
  },
  {
   "cell_type": "code",
   "execution_count": null,
   "metadata": {},
   "outputs": [],
   "source": [
    "def indexCalculate(dataSensorUV):\n",
    "    if dataSensorUV < 227: indexUV = 0\n",
    "    elif (227 <= dataSensorUV) & (dataSensorUV < 318): indexUV = 1\n",
    "    elif (318 <= dataSensorUV) & (dataSensorUV < 408): indexUV = 2\n",
    "    elif (408 <= dataSensorUV) & (dataSensorUV < 503): indexUV = 3\n",
    "    elif (503 <= dataSensorUV) & (dataSensorUV < 606): indexUV = 4    \n",
    "    elif (606 <= dataSensorUV) & (dataSensorUV < 696): indexUV = 5\n",
    "    elif (696 <= dataSensorUV) & (dataSensorUV < 795): indexUV = 6\n",
    "    elif (795 <= dataSensorUV) & (dataSensorUV < 881): indexUV = 7 \n",
    "    elif (881 <= dataSensorUV) & (dataSensorUV < 976): indexUV = 8\n",
    "    elif (976 <= dataSensorUV) & (dataSensorUV < 1079): indexUV = 9 \n",
    "    elif (1079 <= dataSensorUV) & (dataSensorUV < 1170): indexUV = 10\n",
    "    else: indexUV = 11  \n",
    "    return indexUV"
   ]
  },
  {
   "cell_type": "code",
   "execution_count": null,
   "metadata": {},
   "outputs": [],
   "source": [
    "UV_raw = ReadChannel(0)\n",
    "UV_mv = readSensorUV()\n",
    "UV_index = indexCalculate(UV_mv)\n",
    "\n",
    "print(\"UV raw data of {}, can be converted to {}mV, equivalent to UV-Index:\\\n",
    "{}.\".format(UV_raw, UV_mv, UV_index ))"
   ]
  },
  {
   "cell_type": "markdown",
   "metadata": {},
   "source": [
    "---"
   ]
  },
  {
   "cell_type": "markdown",
   "metadata": {},
   "source": [
    "## Capturing all adata"
   ]
  },
  {
   "cell_type": "code",
   "execution_count": null,
   "metadata": {},
   "outputs": [],
   "source": [
    "# time library \n",
    "import datetime\n",
    "\n",
    "# Get data (from local sensors)\n",
    "def getSensorData():\n",
    "    global timeString\n",
    "    global humLab\n",
    "    global tempExt\n",
    "    global tempLab\n",
    "    global presSL\n",
    "    global altLab\n",
    "    global presAbs\n",
    "    global UV_mV\n",
    "    global UV_index\n",
    "\n",
    "    # Get time of reading\n",
    "    now = datetime.datetime.now()\n",
    "    timeString = now.strftime(\"%Y-%m-%d %H:%M\")\n",
    "\n",
    "    # Read External Temperature (1 meter distance)\n",
    "    tempExt = round(ds18b20Sensor.get_temperature(), 1)\n",
    "\n",
    "    tempLab, presAbs, altLab, presSL = bmp180GetData(altReal) \n",
    "\n",
    "    humDHT, tempDHT = Adafruit_DHT.read_retry(DHT22Sensor, DHTpin)\n",
    "    if humDHT is not None and tempDHT is not None:\n",
    "        humLab = round (humDHT)\n",
    "        \n",
    "    UV_mV = readSensorUV()\n",
    "    UV_index = indexCalculate(UV_mV)   "
   ]
  },
  {
   "cell_type": "code",
   "execution_count": null,
   "metadata": {},
   "outputs": [],
   "source": [
    "# Display on screen important data\n",
    "def printData():\n",
    "    print (\"Local Station Time:            \", timeString)\n",
    "    print (\"External Temperature (Aux.):   \", tempExt, \"oC\")\n",
    "    print (\"Station Air Temperature:       \", tempLab, \"oC\")\n",
    "    print (\"Station Air Humidity:          \", humLab, \"%\")\n",
    "    print (\"Sea Level Air Pressure:        \", presSL, \"mBar\")\n",
    "    print (\"Absolute Station Air Pressure: \", presAbs, \"mBar\")\n",
    "    print (\"Station Calculated Altitude:   \", altLab, \"m\")\n",
    "    print (\"UV:                            \", UV_mV, \"mV\")\n",
    "    print (\"Index UV:                      \", UV_index)"
   ]
  },
  {
   "cell_type": "code",
   "execution_count": null,
   "metadata": {},
   "outputs": [],
   "source": [
    "getSensorData()\n",
    "printData()"
   ]
  },
  {
   "cell_type": "markdown",
   "metadata": {},
   "source": [
    "---"
   ]
  },
  {
   "cell_type": "markdown",
   "metadata": {},
   "source": [
    "## Logging Data"
   ]
  },
  {
   "cell_type": "code",
   "execution_count": null,
   "metadata": {
    "scrolled": true
   },
   "outputs": [],
   "source": [
    "with open(\"/home/pi/rpi_weather_station.csv\", \"a\") as log:\n",
    "    while True:\n",
    "        getSensorData()\n",
    "        log.write(\"{},{},{},{},{},{},{},{},{}\\n\".format(timeString, humLab, tempExt, tempLab, presSL, altLab, presAbs, UV_mV, UV_index))\n",
    "        # print(\"{},{},{},{},{},{},{},{},{}\".format(timeString, humLab, tempExt, tempLab, presSL, altLab, presAbs, UV_mV, UV_index))\n",
    "        \n",
    "        time.sleep(30)"
   ]
  },
  {
   "cell_type": "code",
   "execution_count": null,
   "metadata": {},
   "outputs": [],
   "source": [
    "def save_log():\n",
    "    with open(\"/home/pi/rpi_weather_station.csv\", \"a\") as log:\n",
    "        log.write(\"{},{},{},{},{},{},{},{},{}\\n\".format(timeString, humLab, tempExt, tempLab, presSL, altLab, presAbs, UV_mV, UV_index))\n",
    "    log.close()        "
   ]
  },
  {
   "cell_type": "markdown",
   "metadata": {},
   "source": [
    "---"
   ]
  },
  {
   "cell_type": "markdown",
   "metadata": {},
   "source": [
    "## Sending Data to ThingSpeak"
   ]
  },
  {
   "cell_type": "code",
   "execution_count": null,
   "metadata": {},
   "outputs": [],
   "source": [
    "# Need to install the Paho client library.  \n",
    "# sudo pip install paho-mqtt"
   ]
  },
  {
   "cell_type": "code",
   "execution_count": null,
   "metadata": {},
   "outputs": [],
   "source": [
    "import paho.mqtt.publish as publish\n",
    "import psutil"
   ]
  },
  {
   "cell_type": "markdown",
   "metadata": {},
   "source": [
    "ThingSpeak credentials and inicialization"
   ]
  },
  {
   "cell_type": "code",
   "execution_count": null,
   "metadata": {},
   "outputs": [],
   "source": [
    "channelID = \"OUR CHANNEL ID\"\n",
    "apiKey = \"OUR WRITE KEY\"\n",
    "topic = \"channels/\" + channelID + \"/publish/\" + apiKey\n",
    "mqttHost = \"mqtt.thingspeak.com\""
   ]
  },
  {
   "cell_type": "markdown",
   "metadata": {},
   "source": [
    "MQTT Protocol Initialization"
   ]
  },
  {
   "cell_type": "code",
   "execution_count": null,
   "metadata": {},
   "outputs": [],
   "source": [
    "# Conventional TCP socket on port 1883.  \n",
    "# This connection method is the simplest and requires the least system resources.\n",
    "tTransport = \"tcp\"\n",
    "tPort = 1883\n",
    "tTLS = None"
   ]
  },
  {
   "cell_type": "markdown",
   "metadata": {},
   "source": [
    "Defining Payload"
   ]
  },
  {
   "cell_type": "code",
   "execution_count": null,
   "metadata": {},
   "outputs": [],
   "source": [
    " tPayload = \"field1=\" + str(humLab)+ \"&field2=\" + str(tempExt)+ \"&field3=\" + str(tempLab)+ \"&field4=\" + str(presSL)+ \"&field5=\" + str(altLab) + \"&field6=\" + str(presAbs)+ \"&field7=\" + str(UV_mV) + \"&field8=\" + str(UV_index)"
   ]
  },
  {
   "cell_type": "markdown",
   "metadata": {},
   "source": [
    "Testing sending data one time"
   ]
  },
  {
   "cell_type": "code",
   "execution_count": null,
   "metadata": {},
   "outputs": [],
   "source": [
    "print (\"[INFO] Data prepared to be uploaded\")\n",
    "try:\n",
    "    publish.single(topic, payload=tPayload, hostname=mqttHost, port=tPort, tls=tTLS, transport=tTransport)\n",
    "    print (\"[INFO] Data sent for 8 fields: \", humLab, tempExt, tempLab, presSL, altLab, presAbs, UV_mV, UV_index)\n",
    "except:\n",
    "    print (\"[INFO] Failure in sending data\")"
   ]
  },
  {
   "cell_type": "markdown",
   "metadata": {},
   "source": [
    "Sending data continuosly"
   ]
  },
  {
   "cell_type": "code",
   "execution_count": null,
   "metadata": {},
   "outputs": [],
   "source": [
    "# Sending all data to ThingSpeak every 1 minute\n",
    "import time\n",
    "while(True): \n",
    "    getSensorData()\n",
    "    tPayload = \"field1=\" + str(humLab)+ \"&field2=\" + str(tempExt)+ \"&field3=\" + str(tempLab)+ \"&field4=\" + str(presSL)+ \"&field5=\" + str(altLab) + \"&field6=\" + str(presAbs)+ \"&field7=\" + str(UV_mV) + \"&field8=\" + str(UV_index)\n",
    "    try:\n",
    "        publish.single(topic, payload=tPayload, hostname=mqttHost, port=tPort, tls=tTLS, transport=tTransport)\n",
    "        save_log()\n",
    "    except (KeyboardInterrupt):\n",
    "        break\n",
    "    except:\n",
    "        print (\"[INFO] Failure in sending data\") \n",
    "    time.sleep(60)"
   ]
  },
  {
   "cell_type": "code",
   "execution_count": null,
   "metadata": {},
   "outputs": [],
   "source": []
  }
 ],
 "metadata": {
  "kernelspec": {
   "display_name": "Python 3",
   "language": "python",
   "name": "python3"
  },
  "language_info": {
   "codemirror_mode": {
    "name": "ipython",
    "version": 3
   },
   "file_extension": ".py",
   "mimetype": "text/x-python",
   "name": "python",
   "nbconvert_exporter": "python",
   "pygments_lexer": "ipython3",
   "version": "3.8.4"
  },
  "toc": {
   "base_numbering": 1,
   "nav_menu": {},
   "number_sections": true,
   "sideBar": true,
   "skip_h1_title": false,
   "title_cell": "Table of Contents",
   "title_sidebar": "Contents",
   "toc_cell": false,
   "toc_position": {},
   "toc_section_display": true,
   "toc_window_display": false
  },
  "varInspector": {
   "cols": {
    "lenName": 16,
    "lenType": 16,
    "lenVar": 40
   },
   "kernels_config": {
    "python": {
     "delete_cmd_postfix": "",
     "delete_cmd_prefix": "del ",
     "library": "var_list.py",
     "varRefreshCmd": "print(var_dic_list())"
    },
    "r": {
     "delete_cmd_postfix": ") ",
     "delete_cmd_prefix": "rm(",
     "library": "var_list.r",
     "varRefreshCmd": "cat(var_dic_list()) "
    }
   },
   "types_to_exclude": [
    "module",
    "function",
    "builtin_function_or_method",
    "instance",
    "_Feature"
   ],
   "window_display": false
  }
 },
 "nbformat": 4,
 "nbformat_minor": 2
}
